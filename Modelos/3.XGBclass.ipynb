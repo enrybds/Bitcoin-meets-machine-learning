{
 "cells": [
  {
   "cell_type": "code",
   "execution_count": null,
   "metadata": {
    "id": "OLjQDEiBiL0D"
   },
   "outputs": [],
   "source": [
    "import pickle\n",
    "import numpy as np\n",
    "from sklearn import ensemble\n",
    "import pandas as pd\n",
    "import datetime\n"
   ]
  },
  {
   "cell_type": "code",
   "execution_count": null,
   "metadata": {
    "id": "ZlOYypEOiOpw"
   },
   "outputs": [],
   "source": [
    "df = pd.DataFrame(pickle.load(open('Dataframe pickle.pkl','rb')))"
   ]
  },
  {
   "cell_type": "code",
   "execution_count": null,
   "metadata": {
    "colab": {
     "base_uri": "https://localhost:8080/",
     "height": 275
    },
    "id": "i_grUaBGpNlz",
    "outputId": "a31e3f09-9239-405c-f4eb-222f73ce2837"
   },
   "outputs": [
    {
     "data": {
      "text/html": [
       "\n",
       "  <div id=\"df-4693172c-bb1a-460d-b3d5-2ee01a22434e\">\n",
       "    <div class=\"colab-df-container\">\n",
       "      <div>\n",
       "<style scoped>\n",
       "    .dataframe tbody tr th:only-of-type {\n",
       "        vertical-align: middle;\n",
       "    }\n",
       "\n",
       "    .dataframe tbody tr th {\n",
       "        vertical-align: top;\n",
       "    }\n",
       "\n",
       "    .dataframe thead th {\n",
       "        text-align: right;\n",
       "    }\n",
       "</style>\n",
       "<table border=\"1\" class=\"dataframe\">\n",
       "  <thead>\n",
       "    <tr style=\"text-align: right;\">\n",
       "      <th></th>\n",
       "      <th>Open</th>\n",
       "      <th>High</th>\n",
       "      <th>Low</th>\n",
       "      <th>Close</th>\n",
       "      <th>Aroon Oscillator</th>\n",
       "      <th>Average True Range</th>\n",
       "      <th>Average Price 9</th>\n",
       "      <th>Bband upper_band</th>\n",
       "      <th>Bbands middle_band</th>\n",
       "      <th>Bbands lower_band</th>\n",
       "      <th>...</th>\n",
       "      <th>hash.rev_8</th>\n",
       "      <th>addr.act.rcv.cnt_8</th>\n",
       "      <th>exch.bitmex.flow.in.ntv_8</th>\n",
       "      <th>exch.bitmex.flow.out.ntv_8</th>\n",
       "      <th>exch.sply.bittrex.ntv_8</th>\n",
       "      <th>exch.sply.gemini_8</th>\n",
       "      <th>exch.bitstamp.flow.net.ntv_8</th>\n",
       "      <th>exch.bittrex.flow.out.ntv_8</th>\n",
       "      <th>Change percentage_8</th>\n",
       "      <th>Weekday</th>\n",
       "    </tr>\n",
       "    <tr>\n",
       "      <th>Unnamed: 0.1</th>\n",
       "      <th></th>\n",
       "      <th></th>\n",
       "      <th></th>\n",
       "      <th></th>\n",
       "      <th></th>\n",
       "      <th></th>\n",
       "      <th></th>\n",
       "      <th></th>\n",
       "      <th></th>\n",
       "      <th></th>\n",
       "      <th></th>\n",
       "      <th></th>\n",
       "      <th></th>\n",
       "      <th></th>\n",
       "      <th></th>\n",
       "      <th></th>\n",
       "      <th></th>\n",
       "      <th></th>\n",
       "      <th></th>\n",
       "      <th></th>\n",
       "      <th></th>\n",
       "    </tr>\n",
       "  </thead>\n",
       "  <tbody>\n",
       "    <tr>\n",
       "      <th>2014-01-01</th>\n",
       "      <td>746.2226</td>\n",
       "      <td>775.0</td>\n",
       "      <td>740.18292</td>\n",
       "      <td>775.0</td>\n",
       "      <td>100.0</td>\n",
       "      <td>78.52641</td>\n",
       "      <td>759.10138</td>\n",
       "      <td>902.13498</td>\n",
       "      <td>716.82007</td>\n",
       "      <td>531.50515</td>\n",
       "      <td>...</td>\n",
       "      <td>0.003252</td>\n",
       "      <td>131055.0</td>\n",
       "      <td>0.0</td>\n",
       "      <td>0.0</td>\n",
       "      <td>0.0</td>\n",
       "      <td>0.0</td>\n",
       "      <td>-6557.438028</td>\n",
       "      <td>0.0</td>\n",
       "      <td>1.08757</td>\n",
       "      <td>3</td>\n",
       "    </tr>\n",
       "  </tbody>\n",
       "</table>\n",
       "<p>1 rows × 2955 columns</p>\n",
       "</div>\n",
       "      <button class=\"colab-df-convert\" onclick=\"convertToInteractive('df-4693172c-bb1a-460d-b3d5-2ee01a22434e')\"\n",
       "              title=\"Convert this dataframe to an interactive table.\"\n",
       "              style=\"display:none;\">\n",
       "        \n",
       "  <svg xmlns=\"http://www.w3.org/2000/svg\" height=\"24px\"viewBox=\"0 0 24 24\"\n",
       "       width=\"24px\">\n",
       "    <path d=\"M0 0h24v24H0V0z\" fill=\"none\"/>\n",
       "    <path d=\"M18.56 5.44l.94 2.06.94-2.06 2.06-.94-2.06-.94-.94-2.06-.94 2.06-2.06.94zm-11 1L8.5 8.5l.94-2.06 2.06-.94-2.06-.94L8.5 2.5l-.94 2.06-2.06.94zm10 10l.94 2.06.94-2.06 2.06-.94-2.06-.94-.94-2.06-.94 2.06-2.06.94z\"/><path d=\"M17.41 7.96l-1.37-1.37c-.4-.4-.92-.59-1.43-.59-.52 0-1.04.2-1.43.59L10.3 9.45l-7.72 7.72c-.78.78-.78 2.05 0 2.83L4 21.41c.39.39.9.59 1.41.59.51 0 1.02-.2 1.41-.59l7.78-7.78 2.81-2.81c.8-.78.8-2.07 0-2.86zM5.41 20L4 18.59l7.72-7.72 1.47 1.35L5.41 20z\"/>\n",
       "  </svg>\n",
       "      </button>\n",
       "      \n",
       "  <style>\n",
       "    .colab-df-container {\n",
       "      display:flex;\n",
       "      flex-wrap:wrap;\n",
       "      gap: 12px;\n",
       "    }\n",
       "\n",
       "    .colab-df-convert {\n",
       "      background-color: #E8F0FE;\n",
       "      border: none;\n",
       "      border-radius: 50%;\n",
       "      cursor: pointer;\n",
       "      display: none;\n",
       "      fill: #1967D2;\n",
       "      height: 32px;\n",
       "      padding: 0 0 0 0;\n",
       "      width: 32px;\n",
       "    }\n",
       "\n",
       "    .colab-df-convert:hover {\n",
       "      background-color: #E2EBFA;\n",
       "      box-shadow: 0px 1px 2px rgba(60, 64, 67, 0.3), 0px 1px 3px 1px rgba(60, 64, 67, 0.15);\n",
       "      fill: #174EA6;\n",
       "    }\n",
       "\n",
       "    [theme=dark] .colab-df-convert {\n",
       "      background-color: #3B4455;\n",
       "      fill: #D2E3FC;\n",
       "    }\n",
       "\n",
       "    [theme=dark] .colab-df-convert:hover {\n",
       "      background-color: #434B5C;\n",
       "      box-shadow: 0px 1px 3px 1px rgba(0, 0, 0, 0.15);\n",
       "      filter: drop-shadow(0px 1px 2px rgba(0, 0, 0, 0.3));\n",
       "      fill: #FFFFFF;\n",
       "    }\n",
       "  </style>\n",
       "\n",
       "      <script>\n",
       "        const buttonEl =\n",
       "          document.querySelector('#df-4693172c-bb1a-460d-b3d5-2ee01a22434e button.colab-df-convert');\n",
       "        buttonEl.style.display =\n",
       "          google.colab.kernel.accessAllowed ? 'block' : 'none';\n",
       "\n",
       "        async function convertToInteractive(key) {\n",
       "          const element = document.querySelector('#df-4693172c-bb1a-460d-b3d5-2ee01a22434e');\n",
       "          const dataTable =\n",
       "            await google.colab.kernel.invokeFunction('convertToInteractive',\n",
       "                                                     [key], {});\n",
       "          if (!dataTable) return;\n",
       "\n",
       "          const docLinkHtml = 'Like what you see? Visit the ' +\n",
       "            '<a target=\"_blank\" href=https://colab.research.google.com/notebooks/data_table.ipynb>data table notebook</a>'\n",
       "            + ' to learn more about interactive tables.';\n",
       "          element.innerHTML = '';\n",
       "          dataTable['output_type'] = 'display_data';\n",
       "          await google.colab.output.renderOutput(dataTable, element);\n",
       "          const docLink = document.createElement('div');\n",
       "          docLink.innerHTML = docLinkHtml;\n",
       "          element.appendChild(docLink);\n",
       "        }\n",
       "      </script>\n",
       "    </div>\n",
       "  </div>\n",
       "  "
      ],
      "text/plain": [
       "                  Open   High        Low  Close  Aroon Oscillator  \\\n",
       "Unnamed: 0.1                                                        \n",
       "2014-01-01    746.2226  775.0  740.18292  775.0             100.0   \n",
       "\n",
       "              Average True Range  Average Price 9  Bband upper_band  \\\n",
       "Unnamed: 0.1                                                          \n",
       "2014-01-01              78.52641        759.10138         902.13498   \n",
       "\n",
       "              Bbands middle_band  Bbands lower_band  ...  hash.rev_8  \\\n",
       "Unnamed: 0.1                                         ...               \n",
       "2014-01-01             716.82007          531.50515  ...    0.003252   \n",
       "\n",
       "              addr.act.rcv.cnt_8  exch.bitmex.flow.in.ntv_8  \\\n",
       "Unnamed: 0.1                                                  \n",
       "2014-01-01              131055.0                        0.0   \n",
       "\n",
       "              exch.bitmex.flow.out.ntv_8  exch.sply.bittrex.ntv_8  \\\n",
       "Unnamed: 0.1                                                        \n",
       "2014-01-01                           0.0                      0.0   \n",
       "\n",
       "              exch.sply.gemini_8  exch.bitstamp.flow.net.ntv_8  \\\n",
       "Unnamed: 0.1                                                     \n",
       "2014-01-01                   0.0                  -6557.438028   \n",
       "\n",
       "              exch.bittrex.flow.out.ntv_8  Change percentage_8  Weekday  \n",
       "Unnamed: 0.1                                                             \n",
       "2014-01-01                            0.0              1.08757        3  \n",
       "\n",
       "[1 rows x 2955 columns]"
      ]
     },
     "execution_count": 69,
     "metadata": {},
     "output_type": "execute_result"
    }
   ],
   "source": [
    "df.head(1)"
   ]
  },
  {
   "cell_type": "code",
   "execution_count": null,
   "metadata": {
    "id": "Zkyz0VYMpmML"
   },
   "outputs": [],
   "source": [
    "df.index = df[\"Unnamed: 0.1\"].map(lambda x : datetime.datetime.strptime(x,\"%Y-%m-%d\"))\n",
    "df.drop(\"Unnamed: 0\", axis =1, inplace = True)\n",
    "df.drop(\"Unnamed: 0.1\", axis =1, inplace = True)"
   ]
  },
  {
   "cell_type": "code",
   "execution_count": null,
   "metadata": {
    "colab": {
     "base_uri": "https://localhost:8080/",
     "height": 36
    },
    "id": "TuYdDgPgpHJu",
    "outputId": "9dfc354b-b463-4bfc-e0f9-db0a37ee3ed7"
   },
   "outputs": [
    {
     "data": {
      "application/vnd.google.colaboratory.intrinsic+json": {
       "type": "string"
      },
      "text/plain": [
       "'Range3'"
      ]
     },
     "execution_count": 14,
     "metadata": {},
     "output_type": "execute_result"
    }
   ],
   "source": [
    "df.columns[328]"
   ]
  },
  {
   "cell_type": "code",
   "execution_count": null,
   "metadata": {
    "colab": {
     "base_uri": "https://localhost:8080/"
    },
    "id": "wp5cC4djztYE",
    "outputId": "48e6aa68-017f-4e25-fc4b-98965e79db4b"
   },
   "outputs": [
    {
     "data": {
      "text/plain": [
       "Index(['Open', 'High', 'Low', 'Close', 'Aroon Oscillator',\n",
       "       'Average True Range', 'Average Price 9', 'Bband upper_band',\n",
       "       'Bbands middle_band', 'Bbands lower_band',\n",
       "       ...\n",
       "       'addr.act.rcv.cnt', 'exch.bitmex.flow.in.ntv',\n",
       "       'exch.bitmex.flow.out.ntv', 'exch.sply.bittrex.ntv', 'exch.sply.gemini',\n",
       "       'exch.bitstamp.flow.net.ntv', 'exch.bittrex.flow.out.ntv',\n",
       "       'Change percentage', 'Range3', 'Range'],\n",
       "      dtype='object', length=330)"
      ]
     },
     "execution_count": 72,
     "metadata": {},
     "output_type": "execute_result"
    }
   ],
   "source": [
    "df.columns[330:2955]"
   ]
  },
  {
   "cell_type": "code",
   "execution_count": null,
   "metadata": {
    "id": "9k3X4_KgiViW"
   },
   "outputs": [],
   "source": [
    "df1 = df.copy()\n",
    "\n",
    "selec_columns = [i for i in df1.columns][:330]\n",
    "\n",
    "df1 = df1.drop(selec_columns, axis =1) #seleccionamos las columnas\n",
    "\n",
    "df1 = df1['2014':]\n",
    "df = df['2014':]\n",
    "\n",
    "X_train = df1[:'2021-05-01']\n",
    "y_train = df['Range3'][:'2021-05-01']"
   ]
  },
  {
   "cell_type": "code",
   "execution_count": null,
   "metadata": {
    "colab": {
     "base_uri": "https://localhost:8080/",
     "height": 275
    },
    "id": "4QQOkN15y4KX",
    "outputId": "1a995f18-94e1-42e0-fe0c-2c680540d7ba"
   },
   "outputs": [
    {
     "data": {
      "text/html": [
       "\n",
       "  <div id=\"df-d6e09f38-eefe-4e72-a3d1-285ab8dd585a\">\n",
       "    <div class=\"colab-df-container\">\n",
       "      <div>\n",
       "<style scoped>\n",
       "    .dataframe tbody tr th:only-of-type {\n",
       "        vertical-align: middle;\n",
       "    }\n",
       "\n",
       "    .dataframe tbody tr th {\n",
       "        vertical-align: top;\n",
       "    }\n",
       "\n",
       "    .dataframe thead th {\n",
       "        text-align: right;\n",
       "    }\n",
       "</style>\n",
       "<table border=\"1\" class=\"dataframe\">\n",
       "  <thead>\n",
       "    <tr style=\"text-align: right;\">\n",
       "      <th></th>\n",
       "      <th>Change percentage_7</th>\n",
       "      <th>Open_8</th>\n",
       "      <th>High_8</th>\n",
       "      <th>Low_8</th>\n",
       "      <th>Close_8</th>\n",
       "      <th>Aroon Oscillator_8</th>\n",
       "      <th>Average True Range_8</th>\n",
       "      <th>Average Price 9_8</th>\n",
       "      <th>Bband upper_band_8</th>\n",
       "      <th>Bbands middle_band_8</th>\n",
       "      <th>...</th>\n",
       "      <th>hash.rev_8</th>\n",
       "      <th>addr.act.rcv.cnt_8</th>\n",
       "      <th>exch.bitmex.flow.in.ntv_8</th>\n",
       "      <th>exch.bitmex.flow.out.ntv_8</th>\n",
       "      <th>exch.sply.bittrex.ntv_8</th>\n",
       "      <th>exch.sply.gemini_8</th>\n",
       "      <th>exch.bitstamp.flow.net.ntv_8</th>\n",
       "      <th>exch.bittrex.flow.out.ntv_8</th>\n",
       "      <th>Change percentage_8</th>\n",
       "      <th>Weekday</th>\n",
       "    </tr>\n",
       "    <tr>\n",
       "      <th>Unnamed: 0.1</th>\n",
       "      <th></th>\n",
       "      <th></th>\n",
       "      <th></th>\n",
       "      <th></th>\n",
       "      <th></th>\n",
       "      <th></th>\n",
       "      <th></th>\n",
       "      <th></th>\n",
       "      <th></th>\n",
       "      <th></th>\n",
       "      <th></th>\n",
       "      <th></th>\n",
       "      <th></th>\n",
       "      <th></th>\n",
       "      <th></th>\n",
       "      <th></th>\n",
       "      <th></th>\n",
       "      <th></th>\n",
       "      <th></th>\n",
       "      <th></th>\n",
       "      <th></th>\n",
       "    </tr>\n",
       "  </thead>\n",
       "  <tbody>\n",
       "    <tr>\n",
       "      <th>2014-01-01</th>\n",
       "      <td>14.314938</td>\n",
       "      <td>661.95831</td>\n",
       "      <td>668.74591</td>\n",
       "      <td>646.81659</td>\n",
       "      <td>647.33447</td>\n",
       "      <td>-57.14286</td>\n",
       "      <td>113.68295</td>\n",
       "      <td>656.21382</td>\n",
       "      <td>1075.09628</td>\n",
       "      <td>784.83939</td>\n",
       "      <td>...</td>\n",
       "      <td>0.003252</td>\n",
       "      <td>131055.0</td>\n",
       "      <td>0.0</td>\n",
       "      <td>0.0</td>\n",
       "      <td>0.0</td>\n",
       "      <td>0.0</td>\n",
       "      <td>-6557.438028</td>\n",
       "      <td>0.0</td>\n",
       "      <td>1.08757</td>\n",
       "      <td>3</td>\n",
       "    </tr>\n",
       "  </tbody>\n",
       "</table>\n",
       "<p>1 rows × 330 columns</p>\n",
       "</div>\n",
       "      <button class=\"colab-df-convert\" onclick=\"convertToInteractive('df-d6e09f38-eefe-4e72-a3d1-285ab8dd585a')\"\n",
       "              title=\"Convert this dataframe to an interactive table.\"\n",
       "              style=\"display:none;\">\n",
       "        \n",
       "  <svg xmlns=\"http://www.w3.org/2000/svg\" height=\"24px\"viewBox=\"0 0 24 24\"\n",
       "       width=\"24px\">\n",
       "    <path d=\"M0 0h24v24H0V0z\" fill=\"none\"/>\n",
       "    <path d=\"M18.56 5.44l.94 2.06.94-2.06 2.06-.94-2.06-.94-.94-2.06-.94 2.06-2.06.94zm-11 1L8.5 8.5l.94-2.06 2.06-.94-2.06-.94L8.5 2.5l-.94 2.06-2.06.94zm10 10l.94 2.06.94-2.06 2.06-.94-2.06-.94-.94-2.06-.94 2.06-2.06.94z\"/><path d=\"M17.41 7.96l-1.37-1.37c-.4-.4-.92-.59-1.43-.59-.52 0-1.04.2-1.43.59L10.3 9.45l-7.72 7.72c-.78.78-.78 2.05 0 2.83L4 21.41c.39.39.9.59 1.41.59.51 0 1.02-.2 1.41-.59l7.78-7.78 2.81-2.81c.8-.78.8-2.07 0-2.86zM5.41 20L4 18.59l7.72-7.72 1.47 1.35L5.41 20z\"/>\n",
       "  </svg>\n",
       "      </button>\n",
       "      \n",
       "  <style>\n",
       "    .colab-df-container {\n",
       "      display:flex;\n",
       "      flex-wrap:wrap;\n",
       "      gap: 12px;\n",
       "    }\n",
       "\n",
       "    .colab-df-convert {\n",
       "      background-color: #E8F0FE;\n",
       "      border: none;\n",
       "      border-radius: 50%;\n",
       "      cursor: pointer;\n",
       "      display: none;\n",
       "      fill: #1967D2;\n",
       "      height: 32px;\n",
       "      padding: 0 0 0 0;\n",
       "      width: 32px;\n",
       "    }\n",
       "\n",
       "    .colab-df-convert:hover {\n",
       "      background-color: #E2EBFA;\n",
       "      box-shadow: 0px 1px 2px rgba(60, 64, 67, 0.3), 0px 1px 3px 1px rgba(60, 64, 67, 0.15);\n",
       "      fill: #174EA6;\n",
       "    }\n",
       "\n",
       "    [theme=dark] .colab-df-convert {\n",
       "      background-color: #3B4455;\n",
       "      fill: #D2E3FC;\n",
       "    }\n",
       "\n",
       "    [theme=dark] .colab-df-convert:hover {\n",
       "      background-color: #434B5C;\n",
       "      box-shadow: 0px 1px 3px 1px rgba(0, 0, 0, 0.15);\n",
       "      filter: drop-shadow(0px 1px 2px rgba(0, 0, 0, 0.3));\n",
       "      fill: #FFFFFF;\n",
       "    }\n",
       "  </style>\n",
       "\n",
       "      <script>\n",
       "        const buttonEl =\n",
       "          document.querySelector('#df-d6e09f38-eefe-4e72-a3d1-285ab8dd585a button.colab-df-convert');\n",
       "        buttonEl.style.display =\n",
       "          google.colab.kernel.accessAllowed ? 'block' : 'none';\n",
       "\n",
       "        async function convertToInteractive(key) {\n",
       "          const element = document.querySelector('#df-d6e09f38-eefe-4e72-a3d1-285ab8dd585a');\n",
       "          const dataTable =\n",
       "            await google.colab.kernel.invokeFunction('convertToInteractive',\n",
       "                                                     [key], {});\n",
       "          if (!dataTable) return;\n",
       "\n",
       "          const docLinkHtml = 'Like what you see? Visit the ' +\n",
       "            '<a target=\"_blank\" href=https://colab.research.google.com/notebooks/data_table.ipynb>data table notebook</a>'\n",
       "            + ' to learn more about interactive tables.';\n",
       "          element.innerHTML = '';\n",
       "          dataTable['output_type'] = 'display_data';\n",
       "          await google.colab.output.renderOutput(dataTable, element);\n",
       "          const docLink = document.createElement('div');\n",
       "          docLink.innerHTML = docLinkHtml;\n",
       "          element.appendChild(docLink);\n",
       "        }\n",
       "      </script>\n",
       "    </div>\n",
       "  </div>\n",
       "  "
      ],
      "text/plain": [
       "              Change percentage_7     Open_8     High_8      Low_8    Close_8  \\\n",
       "Unnamed: 0.1                                                                    \n",
       "2014-01-01              14.314938  661.95831  668.74591  646.81659  647.33447   \n",
       "\n",
       "              Aroon Oscillator_8  Average True Range_8  Average Price 9_8  \\\n",
       "Unnamed: 0.1                                                                \n",
       "2014-01-01             -57.14286             113.68295          656.21382   \n",
       "\n",
       "              Bband upper_band_8  Bbands middle_band_8  ...  hash.rev_8  \\\n",
       "Unnamed: 0.1                                            ...               \n",
       "2014-01-01            1075.09628             784.83939  ...    0.003252   \n",
       "\n",
       "              addr.act.rcv.cnt_8  exch.bitmex.flow.in.ntv_8  \\\n",
       "Unnamed: 0.1                                                  \n",
       "2014-01-01              131055.0                        0.0   \n",
       "\n",
       "              exch.bitmex.flow.out.ntv_8  exch.sply.bittrex.ntv_8  \\\n",
       "Unnamed: 0.1                                                        \n",
       "2014-01-01                           0.0                      0.0   \n",
       "\n",
       "              exch.sply.gemini_8  exch.bitstamp.flow.net.ntv_8  \\\n",
       "Unnamed: 0.1                                                     \n",
       "2014-01-01                   0.0                  -6557.438028   \n",
       "\n",
       "              exch.bittrex.flow.out.ntv_8  Change percentage_8  Weekday  \n",
       "Unnamed: 0.1                                                             \n",
       "2014-01-01                            0.0              1.08757        3  \n",
       "\n",
       "[1 rows x 330 columns]"
      ]
     },
     "execution_count": 74,
     "metadata": {},
     "output_type": "execute_result"
    }
   ],
   "source": [
    "X_train.head(1)\n"
   ]
  },
  {
   "cell_type": "code",
   "execution_count": null,
   "metadata": {
    "id": "Li0BENjct_UX"
   },
   "outputs": [],
   "source": [
    "X_test = df1['2021-05-02':]\n",
    "y_test = df['Range3']['2021-05-02':]"
   ]
  },
  {
   "cell_type": "code",
   "execution_count": null,
   "metadata": {
    "colab": {
     "base_uri": "https://localhost:8080/"
    },
    "id": "i4hC5MXPqhbP",
    "outputId": "19da512f-00d9-4110-82ed-43d13c815e39"
   },
   "outputs": [
    {
     "data": {
      "text/plain": [
       "XGBClassifier(colsample_bytree=0.1, learning_rate=0.01, n_estimators=1000,\n",
       "              objective='multi:softprob', reg_alpha=0.005, reg_lambda=0.005)"
      ]
     },
     "execution_count": 35,
     "metadata": {},
     "output_type": "execute_result"
    }
   ],
   "source": [
    "import xgboost as xgb\n",
    "\n",
    "xgb = xgb.XGBClassifier(n_estimators=1000,max_depth=3, learning_rate=0.01, verbosity=1,booster='gbtree',reg_alpha =0.005, reg_lambda=0.005, colsample_bytree=0.1, objective='multi:softprob')\n",
    "xgb.fit(X_train,y_train) #parametros modelo"
   ]
  },
  {
   "cell_type": "code",
   "execution_count": null,
   "metadata": {
    "colab": {
     "base_uri": "https://localhost:8080/",
     "height": 354
    },
    "id": "qroZTn1Utz07",
    "outputId": "58a46795-9ada-4e80-b42e-2c4152106d97"
   },
   "outputs": [
    {
     "name": "stderr",
     "output_type": "stream",
     "text": [
      "/usr/local/lib/python3.7/dist-packages/sklearn/utils/deprecation.py:87: FutureWarning: Function plot_confusion_matrix is deprecated; Function `plot_confusion_matrix` is deprecated in 1.0 and will be removed in 1.2. Use one of the class methods: ConfusionMatrixDisplay.from_predictions or ConfusionMatrixDisplay.from_estimator.\n",
      "  warnings.warn(msg, category=FutureWarning)\n"
     ]
    },
    {
     "data": {
      "text/plain": [
       "<sklearn.metrics._plot.confusion_matrix.ConfusionMatrixDisplay at 0x7f2caaacd4d0>"
      ]
     },
     "execution_count": 38,
     "metadata": {},
     "output_type": "execute_result"
    },
    {
     "data": {
      "image/png": "[encoded data removed]",
      "text/plain": [
       "<Figure size 432x288 with 2 Axes>"
      ]
     },
     "metadata": {
      "needs_background": "light"
     },
     "output_type": "display_data"
    }
   ],
   "source": [
    "from sklearn.metrics import plot_confusion_matrix\n",
    "\n",
    "plot_confusion_matrix(xgb,X_test,y_test)"
   ]
  },
  {
   "cell_type": "code",
   "execution_count": null,
   "metadata": {
    "colab": {
     "base_uri": "https://localhost:8080/",
     "height": 354
    },
    "id": "8T7J5nyvumoa",
    "outputId": "1f7547b8-a7c0-4ce1-8e0b-5b7febacbe20"
   },
   "outputs": [
    {
     "name": "stderr",
     "output_type": "stream",
     "text": [
      "/usr/local/lib/python3.7/dist-packages/sklearn/utils/deprecation.py:87: FutureWarning: Function plot_confusion_matrix is deprecated; Function `plot_confusion_matrix` is deprecated in 1.0 and will be removed in 1.2. Use one of the class methods: ConfusionMatrixDisplay.from_predictions or ConfusionMatrixDisplay.from_estimator.\n",
      "  warnings.warn(msg, category=FutureWarning)\n"
     ]
    },
    {
     "data": {
      "text/plain": [
       "<sklearn.metrics._plot.confusion_matrix.ConfusionMatrixDisplay at 0x7f2cab2a5050>"
      ]
     },
     "execution_count": 39,
     "metadata": {},
     "output_type": "execute_result"
    },
    {
     "data": {
      "image/png": "[encoded data removed]",
      "text/plain": [
       "<Figure size 432x288 with 2 Axes>"
      ]
     },
     "metadata": {
      "needs_background": "light"
     },
     "output_type": "display_data"
    }
   ],
   "source": [
    "from sklearn.metrics import plot_confusion_matrix\n",
    "\n",
    "plot_confusion_matrix(xgb,X_train,y_train)"
   ]
  },
  {
   "cell_type": "code",
   "execution_count": null,
   "metadata": {
    "id": "ySdHVuMHu8PQ"
   },
   "outputs": [],
   "source": [
    "yhat = xgb.predict(X_test)"
   ]
  },
  {
   "cell_type": "code",
   "execution_count": null,
   "metadata": {
    "colab": {
     "base_uri": "https://localhost:8080/"
    },
    "id": "r5YePukLuvu-",
    "outputId": "02048944-e62a-41cc-bbdc-90b015e6ab31"
   },
   "outputs": [
    {
     "data": {
      "text/plain": [
       "0.31986142864345085"
      ]
     },
     "execution_count": 53,
     "metadata": {},
     "output_type": "execute_result"
    }
   ],
   "source": [
    "from sklearn.metrics import f1_score\n",
    "\n",
    "f1_score(yhat, y_test, average = 'weighted')"
   ]
  },
  {
   "cell_type": "code",
   "execution_count": null,
   "metadata": {
    "colab": {
     "base_uri": "https://localhost:8080/"
    },
    "id": "FxB24C4aw2Ej",
    "outputId": "b1923b15-5796-4729-d2c4-c85fc6e7332f"
   },
   "outputs": [
    {
     "data": {
      "text/plain": [
       "array([0.        , 0.00023998, 0.00072388, ..., 0.00047218, 0.00053734,\n",
       "       0.00054875], dtype=float32)"
      ]
     },
     "execution_count": 54,
     "metadata": {},
     "output_type": "execute_result"
    }
   ],
   "source": [
    "dfimport = pd.DataFrame(xgb.feature_importances_)\n",
    "\n",
    "dfimport\n"
   ]
  }
 ],
 "metadata": {
  "colab": {
   "name": "XGBclass.ipynb",
   "provenance": [],
   "toc_visible": true
  },
  "kernelspec": {
   "display_name": "Python 3 (ipykernel)",
   "language": "python",
   "name": "python3"
  },
  "language_info": {
   "codemirror_mode": {
    "name": "ipython",
    "version": 3
   },
   "file_extension": ".py",
   "mimetype": "text/x-python",
   "name": "python",
   "nbconvert_exporter": "python",
   "pygments_lexer": "ipython3",
   "version": "3.9.7"
  }
 },
 "nbformat": 4,
 "nbformat_minor": 1
}
