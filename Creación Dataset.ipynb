{
 "cells": [
  {
   "cell_type": "code",
   "execution_count": 102,
   "id": "9185e2d8",
   "metadata": {},
   "outputs": [],
   "source": [
    "from messari.messari import Messari\n",
    "import requests\n",
    "import numpy as np\n",
    "import pandas as pd\n",
    "import matplotlib.pyplot as plt\n",
    "from stockstats import StockDataFrame\n",
    "import os\n",
    "import json\n",
    "import time\n",
    "import funciones_apis #funciones para importar datos de la api y crear el dataset\n",
    "import datetime\n",
    "from twelvedata import TDClient\n",
    "import pickle\n"
   ]
  },
  {
   "cell_type": "code",
   "execution_count": null,
   "id": "0c1368d0",
   "metadata": {},
   "outputs": [],
   "source": [
    "messari = Messari(api_messari) #Claves api messari "
   ]
  },
  {
   "cell_type": "code",
   "execution_count": null,
   "id": "ddcdb012",
   "metadata": {},
   "outputs": [],
   "source": [
    "indicators= pd.read_json('technical_indicators.json') \n",
    "lista_indiadores = list(indicators.index) #indicadores con explciacion de la api"
   ]
  },
  {
   "cell_type": "code",
   "execution_count": null,
   "id": "acf38831",
   "metadata": {},
   "outputs": [],
   "source": [
    "td = TDClient(apikey=api_twelvedata) #key de api twelvedata\n",
    "\n",
    "\n",
    "ts = td.time_series(symbol=symbol,interval=interval,timezone=\"America/New_York\",start_date = start,end_date=end\n",
    "                        ,order=order,outputsize=outputsize,exchange=exchange)\n",
    "\n",
    "df = ts.as_pandas() #df con precio e indicadores técnicos"
   ]
  },
  {
   "cell_type": "code",
   "execution_count": null,
   "id": "cd628499",
   "metadata": {},
   "outputs": [],
   "source": [
    "os.chdir(r'C:\\Users\\Enrique\\Desktop\\Proyecto\\Datasets')\n",
    "df.to_csv('Precio 2012 - 2022 bitfinex.csv', header=True, index=True) #saved to csv file"
   ]
  },
  {
   "cell_type": "code",
   "execution_count": null,
   "id": "1e88a789",
   "metadata": {},
   "outputs": [],
   "source": [
    "dfit = api_twelve(\"BTC/USD\", \"1day\", '2012-01-31','2022-07-09', 5000,  'asc', 'Bitfinex')"
   ]
  },
  {
   "cell_type": "code",
   "execution_count": null,
   "id": "a19a6111",
   "metadata": {},
   "outputs": [],
   "source": [
    "dfit.to_csv('Precio y IT 2012 - 2022.csv',  index= False) #saved to csv file"
   ]
  },
  {
   "cell_type": "code",
   "execution_count": 136,
   "id": "75d8cc0e",
   "metadata": {},
   "outputs": [],
   "source": [
    "td = TDClient(apikey=api_twelvedata) # scamos df con el precio del NASDAQ para comprobar correlacion\n",
    "\n",
    "# Construct the necessary time series\n",
    "ts = td.time_series(\n",
    "    symbol=\"GSPC\",\n",
    "    interval=\"1day\",\n",
    "    start_date = '2012-01-31',\n",
    "    end_date = '2022-07-09',\n",
    "    outputsize=5000,\n",
    "    timezone=\"America/New_York\")\n",
    "\n",
    "dfsp500 = ts.as_pandas()\n",
    "dfsp500 = dfsp500.drop_duplicates()"
   ]
  },
  {
   "cell_type": "code",
   "execution_count": 137,
   "id": "5096b144",
   "metadata": {},
   "outputs": [
    {
     "data": {
      "text/plain": [
       "(2686, 5)"
      ]
     },
     "execution_count": 137,
     "metadata": {},
     "output_type": "execute_result"
    }
   ],
   "source": [
    "dfsp500.shape"
   ]
  },
  {
   "cell_type": "code",
   "execution_count": 138,
   "id": "2b9a2849",
   "metadata": {},
   "outputs": [],
   "source": [
    "td = TDClient(apikey=api_twelvedata) # scamos df con el precio del sp500 para comprobar correlacion\n",
    "\n",
    "# Construct the necessary time series\n",
    "ts = td.time_series(\n",
    "    symbol=\"IXIC\",\n",
    "    interval=\"1day\",\n",
    "    start_date = '2012-01-31',\n",
    "    end_date = '2022-07-09',\n",
    "    outputsize=5000,\n",
    "    timezone=\"America/New_York\")\n",
    "\n",
    "dfnasdaq = ts.as_pandas()\n",
    "dfnasdaq = dfnasdaq.drop_duplicates()"
   ]
  },
  {
   "cell_type": "code",
   "execution_count": 139,
   "id": "175b628d",
   "metadata": {},
   "outputs": [
    {
     "data": {
      "text/plain": [
       "(2685, 5)"
      ]
     },
     "execution_count": 139,
     "metadata": {},
     "output_type": "execute_result"
    }
   ],
   "source": [
    "dfnasdaq.shape"
   ]
  },
  {
   "cell_type": "code",
   "execution_count": 140,
   "id": "2474a00a",
   "metadata": {},
   "outputs": [],
   "source": [
    "td = TDClient(apikey=api_twelvedata)\n",
    "\n",
    "#sacamos df con el precio del dxy para comprobar correlacion\n",
    "ts = td.time_series(\n",
    "    symbol=\"DXY\",\n",
    "    interval=\"1day\",\n",
    "    start_date = '2012-01-31',\n",
    "    end_date = '2022-07-09',\n",
    "    outputsize=5000,\n",
    "    timezone=\"America/New_York\")\n",
    "\n",
    "dfdxy = ts.as_pandas()\n",
    "dfdxy = dfdxy.drop_duplicates()"
   ]
  },
  {
   "cell_type": "code",
   "execution_count": 141,
   "id": "dc91917d",
   "metadata": {},
   "outputs": [
    {
     "data": {
      "text/plain": [
       "(2626, 5)"
      ]
     },
     "execution_count": 141,
     "metadata": {},
     "output_type": "execute_result"
    }
   ],
   "source": [
    "dfdxy.shape"
   ]
  },
  {
   "cell_type": "code",
   "execution_count": 142,
   "id": "d011d505",
   "metadata": {},
   "outputs": [],
   "source": [
    "dfsp500.drop(\"volume\", axis = 1, inplace = True)\n",
    "dfnasdaq.drop(\"volume\", axis = 1, inplace = True)\n",
    "dfdxy.drop(\"volume\", axis = 1, inplace = True)\n",
    "\n",
    "#unimos los 3 dataframes\n",
    "dfindex = pd.merge(dfsp500,dfnasdaq, how = \"left\", left_index = True, right_index = True,)\n",
    "dfindex = pd.merge(dfindex,dfdxy, how = \"left\", left_index = True, right_index = True,)\n",
    "dfindex.columns = (\"open_sp\", \"high_sp\", \"low_sp\", \"close_sp\",\"open_nq\", \"high_nq\", \"low_nq\", \"close_nq\",\"open_dxy\", \"high_dxy\", \"low_dxy\", \"close_dxy\")"
   ]
  },
  {
   "cell_type": "code",
   "execution_count": 145,
   "id": "e4aa296e",
   "metadata": {},
   "outputs": [
    {
     "data": {
      "text/plain": [
       "(2801, 12)"
      ]
     },
     "execution_count": 145,
     "metadata": {},
     "output_type": "execute_result"
    }
   ],
   "source": [
    "dfindex.shape"
   ]
  },
  {
   "cell_type": "code",
   "execution_count": 144,
   "id": "458c67d5",
   "metadata": {},
   "outputs": [],
   "source": [
    "dfindex = dfindex.drop_duplicates() #quitamos registros duplicados"
   ]
  },
  {
   "cell_type": "code",
   "execution_count": 146,
   "id": "b39534e3",
   "metadata": {},
   "outputs": [],
   "source": [
    "dfindex.to_csv('Indices bursátiles.csv') #saved to csv"
   ]
  },
  {
   "cell_type": "code",
   "execution_count": null,
   "id": "17b33514",
   "metadata": {},
   "outputs": [],
   "source": [
    "os.chdir(r'C:\\Users\\Enrique\\Desktop\\Proyecto\\Documentación apis')\n",
    "\n",
    "f = open('metrics messari.json', encoding = 'utf8') #json con las métricas on chain y su informacion\n",
    "metricas = json.load(f)\n",
    "\n",
    "#f.close()"
   ]
  },
  {
   "cell_type": "code",
   "execution_count": null,
   "id": "fc64e350",
   "metadata": {},
   "outputs": [],
   "source": [
    "lista_metricas = []\n",
    "\n",
    "for i in metricas[\"data\"][\"metrics\"]:\n",
    "    x = []\n",
    "    x.append(i[\"metric_id\"])\n",
    "    x.append(i[\"name\"])\n",
    "    x.append(i[\"description\"])\n",
    "    lista_metricas.append(x)\n",
    "    \n",
    "lista_idmetrics = []\n",
    "for i in lista_metricas:\n",
    "    lista_idmetrics.append(i[0])\n",
    "    \n",
    "lista_idmetrics_sinerc = [] \n",
    "lista_indices = [5,9,54,69,86,100,140,161,177,209,212,215,218,225,230,239] \n",
    "#eliminamos las métricas que no tiene que ver con bitcoin\n",
    "for i in lista_idmetrics:\n",
    "    if lista_idmetrics.index(i) not in lista_indices:\n",
    "        lista_idmetrics_sinerc.append(i)\n"
   ]
  },
  {
   "cell_type": "code",
   "execution_count": null,
   "id": "784fa157",
   "metadata": {},
   "outputs": [],
   "source": [
    "dfocm = api_messarri() #duncion creada que coge todas lás ocm desde 2012 a 2022 y devuelve en dataframe"
   ]
  },
  {
   "cell_type": "code",
   "execution_count": null,
   "id": "22e0cc3e",
   "metadata": {},
   "outputs": [],
   "source": [
    "dfocm.to_csv('Metricas ocm.csv',  index= False) "
   ]
  },
  {
   "cell_type": "code",
   "execution_count": null,
   "id": "f3cd9fcd",
   "metadata": {},
   "outputs": [],
   "source": [
    "dfit.index = dfit[\"datetime\"].map(lambda x : datetime.datetime.strptime(x,\"%Y-%m-%d\"))\n",
    "dfocm.index = dfocm[\"Unnamed: 0\"].map(lambda x : datetime.datetime.strptime(x,\"%Y-%m-%d\"))\n",
    "dfit.drop('datetime', axis =1, inplace = True)\n",
    "dfocm.drop(\"Unnamed: 0\", axis =1, inplace = True)\n",
    "dfit_ocm = dfit.merge(dfocm, how = \"inner\", left_index = True, right_index = True)\n",
    "#unimos los dataframes d eindicadores y métricas por la fecha"
   ]
  },
  {
   "cell_type": "code",
   "execution_count": null,
   "id": "c59455e1",
   "metadata": {},
   "outputs": [],
   "source": [
    "dfit_ocm[\"Change percentage\"] = dfit_ocm[\"Close\"].pct_change()*100 #creamos la variable de porcentaje de cambio"
   ]
  },
  {
   "cell_type": "code",
   "execution_count": null,
   "id": "a644be28",
   "metadata": {},
   "outputs": [],
   "source": [
    "dfit_ocm.to_csv('Precio-it-ocm.csv',  index= False) "
   ]
  },
  {
   "cell_type": "code",
   "execution_count": null,
   "id": "1229d23c",
   "metadata": {},
   "outputs": [],
   "source": [
    "dffinal = pd.merge(dfit_ocm,dfindex, how = 'left', left_index = True, right_index = True)\n",
    "dffinal[\"Change percentage\"] = dffinal[\"Close\"].pct_change()*100"
   ]
  },
  {
   "cell_type": "code",
   "execution_count": 153,
   "id": "5c6d0384",
   "metadata": {},
   "outputs": [],
   "source": [
    "dffinal.to_csv('Dataframe final.csv',  index= False) #dataframe final sin preprocesamiento"
   ]
  },
  {
   "cell_type": "code",
   "execution_count": 155,
   "id": "4d7003ef",
   "metadata": {},
   "outputs": [],
   "source": [
    "dflag = dffinal.copy()"
   ]
  },
  {
   "cell_type": "code",
   "execution_count": 156,
   "id": "ae97765b",
   "metadata": {},
   "outputs": [
    {
     "name": "stderr",
     "output_type": "stream",
     "text": [
      "C:\\Users\\Enrique\\AppData\\Local\\Temp/ipykernel_60912/4279602137.py:5: PerformanceWarning: DataFrame is highly fragmented.  This is usually the result of calling `frame.insert` many times, which has poor performance.  Consider joining all columns at once using pd.concat(axis=1) instead.  To get a de-fragmented frame, use `newframe = frame.copy()`\n",
      "  dflag[j+'_'+str(i)] = dflag[j].shift(i)\n"
     ]
    }
   ],
   "source": [
    "lista_columnas = list(dflag.columns) #creamos las varibales laggeadas\n",
    "\n",
    "for i in range(1,9):\n",
    "    for j in lista_columnas:\n",
    "        dflag[j+'_'+str(i)] = dflag[j].shift(i)"
   ]
  },
  {
   "cell_type": "code",
   "execution_count": 157,
   "id": "f55fb418",
   "metadata": {},
   "outputs": [
    {
     "data": {
      "text/plain": [
       "(3794, 3276)"
      ]
     },
     "execution_count": 157,
     "metadata": {},
     "output_type": "execute_result"
    }
   ],
   "source": [
    "dflag.shape"
   ]
  },
  {
   "cell_type": "code",
   "execution_count": 158,
   "id": "4858a4df",
   "metadata": {},
   "outputs": [],
   "source": [
    "dflag.to_csv('Dataframe final lag.csv', index= False)"
   ]
  },
  {
   "cell_type": "code",
   "execution_count": 4,
   "id": "41a3742e",
   "metadata": {},
   "outputs": [],
   "source": [
    "dflag.dropna(axis=1, thresh=800, inplace = True) #eliminamos columnas con muchos nans"
   ]
  },
  {
   "cell_type": "code",
   "execution_count": 5,
   "id": "3b2e5e71",
   "metadata": {},
   "outputs": [],
   "source": [
    "dflag = dflag.drop(dflag.columns[[334,682,1030,1378,1726,2074,2422,2770,3118]], axis='columns') #eliminamos columnas que no nos sirven"
   ]
  },
  {
   "cell_type": "code",
   "execution_count": 85,
   "id": "7b42731b",
   "metadata": {},
   "outputs": [],
   "source": [
    "df.to_csv('Dataframe final lag sin nans.csv',index= False)"
   ]
  },
  {
   "cell_type": "code",
   "execution_count": 78,
   "id": "2fc3e033",
   "metadata": {},
   "outputs": [],
   "source": [
    "os.chdir(r'C:\\Users\\Enrique\\Desktop\\Proyecto\\Datasets')\n",
    "df = pd.read_csv('Dataframe final lag sin nans.csv')"
   ]
  },
  {
   "cell_type": "code",
   "execution_count": 147,
   "id": "15c9f7db",
   "metadata": {},
   "outputs": [],
   "source": [
    "fh = open('Dataframe pickle.pkl','wb') #guardamos el df en formato pickle\n",
    "pickle.dump(df,fh)"
   ]
  },
  {
   "cell_type": "code",
   "execution_count": 38,
   "id": "eb7f2cef",
   "metadata": {},
   "outputs": [],
   "source": [
    "nulos = df.isnull().sum()\n",
    "nulos = nulos[nulos>500]\n",
    "df.drop(nulos.index, axis=1, inplace = True)"
   ]
  },
  {
   "cell_type": "code",
   "execution_count": null,
   "id": "0ccb1b72",
   "metadata": {
    "scrolled": true
   },
   "outputs": [],
   "source": [
    "df.drop(['Hyperbolic Cosine_1','Hyperbolic Cosine_2','Hyperbolic Cosine_3','Hyperbolic Cosine_4',\n",
    "                'Hyperbolic Cosine_5','Hyperbolic Cosine_6','Hyperbolic Cosine_7','Hyperbolic Cosine_8'],inplace = True, axis = 1)\n",
    "#eliminamo estas columnas yq que son valores infinitos y nos causan problemas en los modelos"
   ]
  },
  {
   "cell_type": "code",
   "execution_count": 146,
   "id": "c4220f5a",
   "metadata": {},
   "outputs": [],
   "source": [
    "df.to_csv('Dataframe final lag sin nans.csv')"
   ]
  },
  {
   "cell_type": "code",
   "execution_count": 51,
   "id": "7b0a2bb8",
   "metadata": {},
   "outputs": [
    {
     "data": {
      "text/plain": [
       "36"
      ]
     },
     "execution_count": 51,
     "metadata": {},
     "output_type": "execute_result"
    }
   ],
   "source": [
    "nulos = df['2014':].isnull().sum()\n",
    "nulos = nulos[nulos>0]\n",
    "len(nulos)\n",
    "#eliminamos el resto de columnas con algun nan"
   ]
  },
  {
   "cell_type": "code",
   "execution_count": 52,
   "id": "05299654",
   "metadata": {},
   "outputs": [],
   "source": [
    "df.drop(nulos.index, axis=1, inplace = True)"
   ]
  },
  {
   "cell_type": "code",
   "execution_count": 54,
   "id": "3c963902",
   "metadata": {},
   "outputs": [],
   "source": [
    "df = pd.read_csv('Dataframe final lag sin nans.csv')"
   ]
  },
  {
   "cell_type": "code",
   "execution_count": 57,
   "id": "9b1fb916",
   "metadata": {},
   "outputs": [
    {
     "data": {
      "text/plain": [
       "0"
      ]
     },
     "execution_count": 57,
     "metadata": {},
     "output_type": "execute_result"
    }
   ],
   "source": [
    "nulos = df['2014':].isnull().sum()\n",
    "nulos = nulos[nulos>0]\n",
    "len(nulos)"
   ]
  },
  {
   "cell_type": "code",
   "execution_count": 61,
   "id": "92b652c6",
   "metadata": {},
   "outputs": [],
   "source": [
    " df.drop(['Unnamed: 0_1','Unnamed: 0_2','Unnamed: 0_3','Unnamed: 0_4','Unnamed: 0_5','Unnamed: 0_6','Unnamed: 0_7','Unnamed: 0_8'], inplace = True, axis = 1)"
   ]
  },
  {
   "cell_type": "code",
   "execution_count": 95,
   "id": "552db56e",
   "metadata": {},
   "outputs": [
    {
     "data": {
      "text/plain": [
       "2306"
      ]
     },
     "execution_count": 95,
     "metadata": {},
     "output_type": "execute_result"
    }
   ],
   "source": [
    "count = np.isinf(df).values.sum()\n",
    "count"
   ]
  },
  {
   "cell_type": "code",
   "execution_count": 96,
   "id": "efd76efa",
   "metadata": {},
   "outputs": [
    {
     "name": "stdout",
     "output_type": "stream",
     "text": [
      "%B Indicator              %B Indicator\n",
      "Hyperbolic Cosine    Hyperbolic Cosine\n",
      "%B Indicator_1          %B Indicator_1\n",
      "%B Indicator_2          %B Indicator_2\n",
      "%B Indicator_3          %B Indicator_3\n",
      "%B Indicator_4          %B Indicator_4\n",
      "%B Indicator_5          %B Indicator_5\n",
      "%B Indicator_6          %B Indicator_6\n",
      "%B Indicator_7          %B Indicator_7\n",
      "%B Indicator_8          %B Indicator_8\n",
      "dtype: object\n"
     ]
    }
   ],
   "source": [
    "col_name = df.columns.to_series()[np.isinf(df).any()]\n",
    "print(col_name) #tienen infs"
   ]
  },
  {
   "cell_type": "code",
   "execution_count": 98,
   "id": "24801bd5",
   "metadata": {},
   "outputs": [],
   "source": [
    "df.drop(col_name, axis = 1, inplace = True) #eliminamos columnas con valores infinitos"
   ]
  },
  {
   "cell_type": "code",
   "execution_count": 139,
   "id": "5512c516",
   "metadata": {},
   "outputs": [],
   "source": [
    "df = pd.read_csv('Dataframe final lag sin nans.csv')"
   ]
  },
  {
   "cell_type": "code",
   "execution_count": 122,
   "id": "0dad59d8",
   "metadata": {},
   "outputs": [],
   "source": [
    "#creamos funcion para  la variable objetivo de 12 clases\n",
    "\n",
    "def rangos(i): \n",
    "    if i < -5: return '<-5%'\n",
    "    if i >= -5 and i < -4: return '-5/-4%'\n",
    "    if i >= -4 and i < -3: return '-4/-3%'\n",
    "    if i >= -3 and i < -2: return '-3/-2%'\n",
    "    if i >= -3 and i < -2: return '-3/-2%'\n",
    "    if i >= -2 and i < -1: return '-2/-1%'\n",
    "    if i >= -1 and i < 0: return '-1/-0%'\n",
    "    if i >= 0 and i < 1: return '0/1%'\n",
    "    if i >= 1 and i < 2: return '1/2%'\n",
    "    if i >= 2 and i < 3: return '2/3%'\n",
    "    if i >= 3 and i < 4: return '3/4%'\n",
    "    if i >= 4 and i < 5: return '4/5%'\n",
    "    if i >= 5 : return '>5%'"
   ]
  },
  {
   "cell_type": "code",
   "execution_count": 133,
   "id": "6c46c2a6",
   "metadata": {},
   "outputs": [],
   "source": [
    "#creamos funcion para variable objetivo de 3 clases\n",
    "\n",
    "def rangos3(i): \n",
    "    if i < -1: return -1\n",
    "    if i >= -1 and i <= 1: return 0\n",
    "    if i >= 1 : return 1"
   ]
  },
  {
   "cell_type": "code",
   "execution_count": 123,
   "id": "593c6980",
   "metadata": {},
   "outputs": [],
   "source": [
    "df[\"Range\"] = df[\"Change percentage\"].apply(rangos)"
   ]
  },
  {
   "cell_type": "code",
   "execution_count": 128,
   "id": "1e4426be",
   "metadata": {},
   "outputs": [],
   "source": [
    "df.insert(329, \"Range\", insertar)"
   ]
  },
  {
   "cell_type": "code",
   "execution_count": 136,
   "id": "182db778",
   "metadata": {},
   "outputs": [],
   "source": [
    "x = df[\"Change percentage\"].apply(rangos3)"
   ]
  },
  {
   "cell_type": "code",
   "execution_count": 144,
   "id": "6f8f1a27",
   "metadata": {},
   "outputs": [],
   "source": [
    "df.insert(330, \"Range3\", x)"
   ]
  },
  {
   "cell_type": "code",
   "execution_count": 143,
   "id": "3e5accba",
   "metadata": {},
   "outputs": [
    {
     "data": {
      "text/plain": [
       "'Open_1'"
      ]
     },
     "execution_count": 143,
     "metadata": {},
     "output_type": "execute_result"
    }
   ],
   "source": [
    "df.columns[331]"
   ]
  },
  {
   "cell_type": "code",
   "execution_count": 145,
   "id": "f65996e1",
   "metadata": {},
   "outputs": [
    {
     "data": {
      "text/html": [
       "<div>\n",
       "<style scoped>\n",
       "    .dataframe tbody tr th:only-of-type {\n",
       "        vertical-align: middle;\n",
       "    }\n",
       "\n",
       "    .dataframe tbody tr th {\n",
       "        vertical-align: top;\n",
       "    }\n",
       "\n",
       "    .dataframe thead th {\n",
       "        text-align: right;\n",
       "    }\n",
       "</style>\n",
       "<table border=\"1\" class=\"dataframe\">\n",
       "  <thead>\n",
       "    <tr style=\"text-align: right;\">\n",
       "      <th></th>\n",
       "      <th>Change percentage</th>\n",
       "      <th>Range</th>\n",
       "      <th>Range3</th>\n",
       "    </tr>\n",
       "  </thead>\n",
       "  <tbody>\n",
       "    <tr>\n",
       "      <th>0</th>\n",
       "      <td>NaN</td>\n",
       "      <td>NaN</td>\n",
       "      <td>NaN</td>\n",
       "    </tr>\n",
       "    <tr>\n",
       "      <th>1</th>\n",
       "      <td>0.328947</td>\n",
       "      <td>0/1%</td>\n",
       "      <td>0.0</td>\n",
       "    </tr>\n",
       "    <tr>\n",
       "      <th>2</th>\n",
       "      <td>-2.295082</td>\n",
       "      <td>-3/-2%</td>\n",
       "      <td>-1.0</td>\n",
       "    </tr>\n",
       "    <tr>\n",
       "      <th>3</th>\n",
       "      <td>-1.510067</td>\n",
       "      <td>-2/-1%</td>\n",
       "      <td>-1.0</td>\n",
       "    </tr>\n",
       "    <tr>\n",
       "      <th>4</th>\n",
       "      <td>-3.066440</td>\n",
       "      <td>-4/-3%</td>\n",
       "      <td>-1.0</td>\n",
       "    </tr>\n",
       "    <tr>\n",
       "      <th>...</th>\n",
       "      <td>...</td>\n",
       "      <td>...</td>\n",
       "      <td>...</td>\n",
       "    </tr>\n",
       "    <tr>\n",
       "      <th>3789</th>\n",
       "      <td>-0.271954</td>\n",
       "      <td>-1/-0%</td>\n",
       "      <td>0.0</td>\n",
       "    </tr>\n",
       "    <tr>\n",
       "      <th>3790</th>\n",
       "      <td>1.924016</td>\n",
       "      <td>1/2%</td>\n",
       "      <td>1.0</td>\n",
       "    </tr>\n",
       "    <tr>\n",
       "      <th>3791</th>\n",
       "      <td>5.170708</td>\n",
       "      <td>&gt;5%</td>\n",
       "      <td>1.0</td>\n",
       "    </tr>\n",
       "    <tr>\n",
       "      <th>3792</th>\n",
       "      <td>-0.092507</td>\n",
       "      <td>-1/-0%</td>\n",
       "      <td>0.0</td>\n",
       "    </tr>\n",
       "    <tr>\n",
       "      <th>3793</th>\n",
       "      <td>-0.112232</td>\n",
       "      <td>-1/-0%</td>\n",
       "      <td>0.0</td>\n",
       "    </tr>\n",
       "  </tbody>\n",
       "</table>\n",
       "<p>3794 rows × 3 columns</p>\n",
       "</div>"
      ],
      "text/plain": [
       "      Change percentage   Range  Range3\n",
       "0                   NaN     NaN     NaN\n",
       "1              0.328947    0/1%     0.0\n",
       "2             -2.295082  -3/-2%    -1.0\n",
       "3             -1.510067  -2/-1%    -1.0\n",
       "4             -3.066440  -4/-3%    -1.0\n",
       "...                 ...     ...     ...\n",
       "3789          -0.271954  -1/-0%     0.0\n",
       "3790           1.924016    1/2%     1.0\n",
       "3791           5.170708     >5%     1.0\n",
       "3792          -0.092507  -1/-0%     0.0\n",
       "3793          -0.112232  -1/-0%     0.0\n",
       "\n",
       "[3794 rows x 3 columns]"
      ]
     },
     "execution_count": 145,
     "metadata": {},
     "output_type": "execute_result"
    }
   ],
   "source": [
    "df[[\"Change percentage\", \"Range\", \"Range3\"]]"
   ]
  },
  {
   "cell_type": "code",
   "execution_count": 149,
   "id": "b2209c08",
   "metadata": {},
   "outputs": [
    {
     "data": {
      "text/plain": [
       " 1.0    0.361192\n",
       " 0.0    0.348800\n",
       "-1.0    0.290008\n",
       "Name: Range3, dtype: float64"
      ]
     },
     "execution_count": 149,
     "metadata": {},
     "output_type": "execute_result"
    }
   ],
   "source": [
    "df[\"Range3\"].value_counts(normalize=True)"
   ]
  }
 ],
 "metadata": {
  "kernelspec": {
   "display_name": "Python 3 (ipykernel)",
   "language": "python",
   "name": "python3"
  },
  "language_info": {
   "codemirror_mode": {
    "name": "ipython",
    "version": 3
   },
   "file_extension": ".py",
   "mimetype": "text/x-python",
   "name": "python",
   "nbconvert_exporter": "python",
   "pygments_lexer": "ipython3",
   "version": "3.9.7"
  }
 },
 "nbformat": 4,
 "nbformat_minor": 5
}
